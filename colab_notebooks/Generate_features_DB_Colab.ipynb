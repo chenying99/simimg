{
  "nbformat": 4,
  "nbformat_minor": 0,
  "metadata": {
    "colab": {
      "name": "Generate_features_DB_Colab.ipynb",
      "version": "0.3.2",
      "provenance": []
    },
    "kernelspec": {
      "name": "python3",
      "display_name": "Python 3"
    },
    "accelerator": "GPU"
  },
  "cells": [
    {
      "cell_type": "code",
      "metadata": {
        "id": "286v9Ny6LfZQ",
        "colab_type": "code",
        "colab": {}
      },
      "source": [
        "%cd /content\n",
        "!rm -rf simimg\n",
        "!unzip simimg.zip\n",
        "!rm -f simimg.zip"
      ],
      "execution_count": 0,
      "outputs": []
    },
    {
      "cell_type": "code",
      "metadata": {
        "id": "NkQg33e4NT0C",
        "colab_type": "code",
        "colab": {}
      },
      "source": [
        "%cd simimg\n",
        "# !pip install -r requirements.txt"
      ],
      "execution_count": 0,
      "outputs": []
    },
    {
      "cell_type": "code",
      "metadata": {
        "id": "R3MnVoZNbZpT",
        "colab_type": "code",
        "colab": {}
      },
      "source": [
        "from google.colab import drive\n",
        "drive.mount('/content/gdrive')"
      ],
      "execution_count": 0,
      "outputs": []
    },
    {
      "cell_type": "code",
      "metadata": {
        "id": "MBUCnp5uNg8J",
        "colab_type": "code",
        "colab": {}
      },
      "source": [
        "!python download_dataset.py"
      ],
      "execution_count": 0,
      "outputs": []
    },
    {
      "cell_type": "code",
      "metadata": {
        "id": "gkF169MXO2rB",
        "colab_type": "code",
        "colab": {}
      },
      "source": [
        "!python generate_features_db.py --path data/deepfashion/img/ --batch 1000"
      ],
      "execution_count": 0,
      "outputs": []
    },
    {
      "cell_type": "code",
      "metadata": {
        "id": "tyc5RV9nPeiw",
        "colab_type": "code",
        "colab": {}
      },
      "source": [
        "!cp /content/simimg/data/features_db.pckl \"/content/gdrive/My Drive/\""
      ],
      "execution_count": 0,
      "outputs": []
    }
  ]
}